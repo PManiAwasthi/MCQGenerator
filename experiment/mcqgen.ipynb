{
 "cells": [
  {
   "cell_type": "code",
   "execution_count": 1,
   "metadata": {},
   "outputs": [],
   "source": [
    "import os"
   ]
  },
  {
   "cell_type": "code",
   "execution_count": 2,
   "metadata": {},
   "outputs": [],
   "source": [
    "from langchain.llms import OpenAI\n",
    "from langchain.chat_models import ChatOpenAI\n",
    "from langchain.prompts import PromptTemplate\n",
    "from langchain.chains import LLMChain\n",
    "from langchain.chains import SequentialChain\n",
    "from langchain.callbacks import get_openai_callback\n",
    "import os\n",
    "import json\n",
    "import pandas as pd\n",
    "import traceback\n",
    "from dotenv import load_dotenv\n",
    "import PyPDF2"
   ]
  },
  {
   "cell_type": "code",
   "execution_count": 3,
   "metadata": {},
   "outputs": [
    {
     "data": {
      "text/plain": [
       "True"
      ]
     },
     "execution_count": 3,
     "metadata": {},
     "output_type": "execute_result"
    }
   ],
   "source": [
    "load_dotenv()"
   ]
  },
  {
   "cell_type": "code",
   "execution_count": 4,
   "metadata": {},
   "outputs": [],
   "source": [
    "key=os.getenv(\"OPENAI_API_KEY\")"
   ]
  },
  {
   "cell_type": "code",
   "execution_count": 5,
   "metadata": {},
   "outputs": [
    {
     "name": "stderr",
     "output_type": "stream",
     "text": [
      "d:\\Projects to practice\\MCQGenerator\\env\\lib\\site-packages\\langchain_core\\_api\\deprecation.py:117: LangChainDeprecationWarning: The class `langchain_community.chat_models.openai.ChatOpenAI` was deprecated in langchain-community 0.0.10 and will be removed in 0.2.0. An updated version of the class exists in the langchain-openai package and should be used instead. To use it run `pip install -U langchain-openai` and import as `from langchain_openai import ChatOpenAI`.\n",
      "  warn_deprecated(\n"
     ]
    }
   ],
   "source": [
    "llm = ChatOpenAI(openai_api_key=key, model_name=\"gpt-3.5-turbo\", temperature=0.7)"
   ]
  },
  {
   "cell_type": "code",
   "execution_count": 6,
   "metadata": {},
   "outputs": [],
   "source": [
    "TEMPLATE=\"\"\"\n",
    "Text:{text}\n",
    "You are an expert MCQ maker. Given the above text, it is your job to \\\n",
    "create a quiz  of {number} multiple choice questions for {subject} students in {tone} tone. \n",
    "Make sure the questions are not repeated and check all the questions to be conforming the text as well.\n",
    "Make sure to format your response like  RESPONSE_JSON below  and use it as a guide. \\\n",
    "Ensure to make {number} MCQs\n",
    "### RESPONSE_JSON\n",
    "{RESPONSE_JSON}\n",
    "\n",
    "\"\"\""
   ]
  },
  {
   "cell_type": "code",
   "execution_count": 7,
   "metadata": {},
   "outputs": [],
   "source": [
    "with open(\"D:\\Projects to practice\\MCQGenerator\\Response.json\",\"r\") as f:\n",
    "    RESPONSE_JSON = json.load(f)"
   ]
  },
  {
   "cell_type": "code",
   "execution_count": 8,
   "metadata": {},
   "outputs": [],
   "source": [
    "quiz_generation_prompt=PromptTemplate(\n",
    "    input_variables=[\"text\", \"number\", \"subject\", \"tone\", \"RESPONSE_JSON\"],\n",
    "    template=TEMPLATE\n",
    "    \n",
    ")"
   ]
  },
  {
   "cell_type": "code",
   "execution_count": 9,
   "metadata": {},
   "outputs": [],
   "source": [
    "quiz_chain=LLMChain(llm=llm, prompt=quiz_generation_prompt, output_key=\"quiz\", verbose=True)"
   ]
  },
  {
   "cell_type": "code",
   "execution_count": 10,
   "metadata": {},
   "outputs": [],
   "source": [
    "TEMPLATE2=\"\"\"\n",
    "You are an expert english grammarian and writer. Given a Multiple Choice Quiz for {subject} students.\\\n",
    "You need to evaluate the complexity of the question and give a complete analysis of the quiz. Only use at max 50 words for complexity analysis. \n",
    "if the quiz is not at per with the cognitive and analytical abilities of the students,\\\n",
    "update the quiz questions which needs to be changed and change the tone such that it perfectly fits the student abilities\n",
    "Quiz_MCQs:\n",
    "{quiz}\n",
    "\n",
    "Check from an expert English Writer of the above quiz:\n",
    "\"\"\""
   ]
  },
  {
   "cell_type": "code",
   "execution_count": 11,
   "metadata": {},
   "outputs": [],
   "source": [
    "quiz_evaluation_prompt=PromptTemplate(\n",
    "    input_variables=[\"subject\", \"quiz\"],\n",
    "    template=TEMPLATE2\n",
    "    \n",
    ")"
   ]
  },
  {
   "cell_type": "code",
   "execution_count": 12,
   "metadata": {},
   "outputs": [],
   "source": [
    "review_chain=LLMChain(llm=llm, prompt=quiz_evaluation_prompt, output_key=\"review\", verbose=True)"
   ]
  },
  {
   "cell_type": "code",
   "execution_count": 13,
   "metadata": {},
   "outputs": [],
   "source": [
    "generate_evaluate_chain=SequentialChain(chains=[quiz_chain, review_chain], input_variables=[\"text\", \"number\", \"subject\", \"tone\", \"RESPONSE_JSON\"], output_variables=[\"quiz\", \"review\"], verbose=True)"
   ]
  },
  {
   "cell_type": "code",
   "execution_count": 14,
   "metadata": {},
   "outputs": [],
   "source": [
    "PATH=\"D:\\Projects to practice\\MCQGenerator\\data.txt\""
   ]
  },
  {
   "cell_type": "code",
   "execution_count": 15,
   "metadata": {},
   "outputs": [],
   "source": [
    "with open(PATH, \"r\") as file:\n",
    "    TEXT=file.read()"
   ]
  },
  {
   "cell_type": "code",
   "execution_count": 16,
   "metadata": {},
   "outputs": [
    {
     "name": "stdout",
     "output_type": "stream",
     "text": [
      "Recent progress in generative models have resulted in models that can produce realistic text, images and video that can potentially revolutionize the way humans work, create content and interact with machines. The workshop on Generative AI at AIMLSystems will focus on the entire life-cycle of building and deploying such Generative AI systems, including data collection and processing, developing systems and requisite infrastructure, applications it enables, and the ethics associated with such technology covering concerns related to fairness, transparency and accountability. We invite original, unpublished work on Artificial Intelligence with a focus on generative AI and their use cases. Specifically, the topics of interest include but are not limited to:\n",
      "\n",
      "Systems, architecture and infrastructure for Generative AI\n",
      "Machine learning and Modeling using LLMs and Diffusion models\n",
      "Large Language Models and its applications\n",
      "Multi-modal Generative AI and its applications\n",
      "Gen AI based Plugins and agents\n",
      "Deployment of Generative AI solutions\n",
      "Evaluation of Language and Diffusion based models\n",
      "Responsible use of Gen AI\n"
     ]
    }
   ],
   "source": [
    "print(TEXT)"
   ]
  },
  {
   "cell_type": "code",
   "execution_count": 17,
   "metadata": {},
   "outputs": [],
   "source": [
    "NUMBER=5\n",
    "SUBJECT=\"AI\"\n",
    "TONE=\"Simple\",\n",
    "RESPONSE_JSON=RESPONSE_JSON"
   ]
  },
  {
   "cell_type": "code",
   "execution_count": 18,
   "metadata": {},
   "outputs": [
    {
     "name": "stderr",
     "output_type": "stream",
     "text": [
      "d:\\Projects to practice\\MCQGenerator\\env\\lib\\site-packages\\langchain_core\\_api\\deprecation.py:117: LangChainDeprecationWarning: The function `__call__` was deprecated in LangChain 0.1.0 and will be removed in 0.2.0. Use invoke instead.\n",
      "  warn_deprecated(\n"
     ]
    },
    {
     "name": "stdout",
     "output_type": "stream",
     "text": [
      "\n",
      "\n",
      "\u001b[1m> Entering new SequentialChain chain...\u001b[0m\n",
      "\n",
      "\n",
      "\u001b[1m> Entering new LLMChain chain...\u001b[0m\n",
      "Prompt after formatting:\n",
      "\u001b[32;1m\u001b[1;3m\n",
      "Text:Recent progress in generative models have resulted in models that can produce realistic text, images and video that can potentially revolutionize the way humans work, create content and interact with machines. The workshop on Generative AI at AIMLSystems will focus on the entire life-cycle of building and deploying such Generative AI systems, including data collection and processing, developing systems and requisite infrastructure, applications it enables, and the ethics associated with such technology covering concerns related to fairness, transparency and accountability. We invite original, unpublished work on Artificial Intelligence with a focus on generative AI and their use cases. Specifically, the topics of interest include but are not limited to:\n",
      "\n",
      "Systems, architecture and infrastructure for Generative AI\n",
      "Machine learning and Modeling using LLMs and Diffusion models\n",
      "Large Language Models and its applications\n",
      "Multi-modal Generative AI and its applications\n",
      "Gen AI based Plugins and agents\n",
      "Deployment of Generative AI solutions\n",
      "Evaluation of Language and Diffusion based models\n",
      "Responsible use of Gen AI\n",
      "You are an expert MCQ maker. Given the above text, it is your job to create a quiz  of 5 multiple choice questions for AI students in ('Simple',) tone. \n",
      "Make sure the questions are not repeated and check all the questions to be conforming the text as well.\n",
      "Make sure to format your response like  RESPONSE_JSON below  and use it as a guide. Ensure to make 5 MCQs\n",
      "### RESPONSE_JSON\n",
      "{\"1\": {\"no\": \"1\", \"mcq\": \"multiple choice questions\", \"options\": {\"a\": \"choice here\", \"b\": \"choice here\", \"c\": \"choice here\", \"d\": \"choice here\"}, \"correct\": \"correct answer\"}, \"2\": {\"no\": \"2\", \"mcq\": \"multiple choice questions\", \"options\": {\"a\": \"choice here\", \"b\": \"choice here\", \"c\": \"choice here\", \"d\": \"choice here\"}, \"correct\": \"correct answer\"}, \"3\": {\"no\": \"3\", \"mcq\": \"multiple choice questions\", \"options\": {\"a\": \"choice here\", \"b\": \"choice here\", \"c\": \"choice here\", \"d\": \"choice here\"}, \"correct\": \"correct answer\"}}\n",
      "\n",
      "\u001b[0m\n",
      "\n",
      "\u001b[1m> Finished chain.\u001b[0m\n",
      "\n",
      "\n",
      "\u001b[1m> Entering new LLMChain chain...\u001b[0m\n",
      "Prompt after formatting:\n",
      "\u001b[32;1m\u001b[1;3m\n",
      "You are an expert english grammarian and writer. Given a Multiple Choice Quiz for AI students.You need to evaluate the complexity of the question and give a complete analysis of the quiz. Only use at max 50 words for complexity analysis. \n",
      "if the quiz is not at per with the cognitive and analytical abilities of the students,update the quiz questions which needs to be changed and change the tone such that it perfectly fits the student abilities\n",
      "Quiz_MCQs:\n",
      "{\n",
      "    \"1\": {\n",
      "        \"no\": \"1\",\n",
      "        \"mcq\": \"What does the workshop on Generative AI at AIMLSystems focus on?\",\n",
      "        \"options\": {\n",
      "            \"a\": \"Developing self-driving cars\",\n",
      "            \"b\": \"Building and deploying Generative AI systems\",\n",
      "            \"c\": \"Creating mobile applications\",\n",
      "            \"d\": \"Designing video games\"\n",
      "        },\n",
      "        \"correct\": \"b\"\n",
      "    },\n",
      "    \"2\": {\n",
      "        \"no\": \"2\",\n",
      "        \"mcq\": \"Which of the following is a topic of interest for Generative AI discussed in the text?\",\n",
      "        \"options\": {\n",
      "            \"a\": \"Weather forecasting\",\n",
      "            \"b\": \"3D printing technology\",\n",
      "            \"c\": \"Systems, architecture and infrastructure for Generative AI\",\n",
      "            \"d\": \"Cooking recipes\"\n",
      "        },\n",
      "        \"correct\": \"c\"\n",
      "    },\n",
      "    \"3\": {\n",
      "        \"no\": \"3\",\n",
      "        \"mcq\": \"What is responsible use of Gen AI concerned with?\",\n",
      "        \"options\": {\n",
      "            \"a\": \"Creating fake news\",\n",
      "            \"b\": \"Fairness, transparency and accountability\",\n",
      "            \"c\": \"Provoking conflicts\",\n",
      "            \"d\": \"Ignoring ethical concerns\"\n",
      "        },\n",
      "        \"correct\": \"b\"\n",
      "    },\n",
      "    \"4\": {\n",
      "        \"no\": \"4\",\n",
      "        \"mcq\": \"Which type of models are used in Machine learning and Modeling for Generative AI?\",\n",
      "        \"options\": {\n",
      "            \"a\": \"Deep learning models\",\n",
      "            \"b\": \"Shallow learning models\",\n",
      "            \"c\": \"LLMs and Diffusion models\",\n",
      "            \"d\": \"Reinforcement learning models\"\n",
      "        },\n",
      "        \"correct\": \"c\"\n",
      "    },\n",
      "    \"5\": {\n",
      "        \"no\": \"5\",\n",
      "        \"mcq\": \"What does Multi-modal Generative AI focus on?\",\n",
      "        \"options\": {\n",
      "            \"a\": \"Creating only text-based content\",\n",
      "            \"b\": \"Generating content in multiple modes like text, images, and video\",\n",
      "            \"c\": \"Developing hardware systems\",\n",
      "            \"d\": \"Building social media platforms\"\n",
      "        },\n",
      "        \"correct\": \"b\"\n",
      "    }\n",
      "}\n",
      "\n",
      "Check from an expert English Writer of the above quiz:\n",
      "\u001b[0m\n",
      "\n",
      "\u001b[1m> Finished chain.\u001b[0m\n",
      "\n",
      "\u001b[1m> Finished chain.\u001b[0m\n"
     ]
    }
   ],
   "source": [
    "with get_openai_callback() as cb:\n",
    "    response=generate_evaluate_chain({\n",
    "        \"text\":TEXT, \n",
    "        \"number\":NUMBER, \n",
    "        \"subject\":SUBJECT, \n",
    "        \"tone\":TONE, \n",
    "        \"RESPONSE_JSON\":json.dumps(RESPONSE_JSON)\n",
    "        }\n",
    "    )"
   ]
  },
  {
   "cell_type": "code",
   "execution_count": 19,
   "metadata": {},
   "outputs": [
    {
     "name": "stdout",
     "output_type": "stream",
     "text": [
      "{'text': 'Recent progress in generative models have resulted in models that can produce realistic text, images and video that can potentially revolutionize the way humans work, create content and interact with machines. The workshop on Generative AI at AIMLSystems will focus on the entire life-cycle of building and deploying such Generative AI systems, including data collection and processing, developing systems and requisite infrastructure, applications it enables, and the ethics associated with such technology covering concerns related to fairness, transparency and accountability. We invite original, unpublished work on Artificial Intelligence with a focus on generative AI and their use cases. Specifically, the topics of interest include but are not limited to:\\n\\nSystems, architecture and infrastructure for Generative AI\\nMachine learning and Modeling using LLMs and Diffusion models\\nLarge Language Models and its applications\\nMulti-modal Generative AI and its applications\\nGen AI based Plugins and agents\\nDeployment of Generative AI solutions\\nEvaluation of Language and Diffusion based models\\nResponsible use of Gen AI', 'number': 5, 'subject': 'AI', 'tone': ('Simple',), 'RESPONSE_JSON': '{\"1\": {\"no\": \"1\", \"mcq\": \"multiple choice questions\", \"options\": {\"a\": \"choice here\", \"b\": \"choice here\", \"c\": \"choice here\", \"d\": \"choice here\"}, \"correct\": \"correct answer\"}, \"2\": {\"no\": \"2\", \"mcq\": \"multiple choice questions\", \"options\": {\"a\": \"choice here\", \"b\": \"choice here\", \"c\": \"choice here\", \"d\": \"choice here\"}, \"correct\": \"correct answer\"}, \"3\": {\"no\": \"3\", \"mcq\": \"multiple choice questions\", \"options\": {\"a\": \"choice here\", \"b\": \"choice here\", \"c\": \"choice here\", \"d\": \"choice here\"}, \"correct\": \"correct answer\"}}', 'quiz': '{\\n    \"1\": {\\n        \"no\": \"1\",\\n        \"mcq\": \"What does the workshop on Generative AI at AIMLSystems focus on?\",\\n        \"options\": {\\n            \"a\": \"Developing self-driving cars\",\\n            \"b\": \"Building and deploying Generative AI systems\",\\n            \"c\": \"Creating mobile applications\",\\n            \"d\": \"Designing video games\"\\n        },\\n        \"correct\": \"b\"\\n    },\\n    \"2\": {\\n        \"no\": \"2\",\\n        \"mcq\": \"Which of the following is a topic of interest for Generative AI discussed in the text?\",\\n        \"options\": {\\n            \"a\": \"Weather forecasting\",\\n            \"b\": \"3D printing technology\",\\n            \"c\": \"Systems, architecture and infrastructure for Generative AI\",\\n            \"d\": \"Cooking recipes\"\\n        },\\n        \"correct\": \"c\"\\n    },\\n    \"3\": {\\n        \"no\": \"3\",\\n        \"mcq\": \"What is responsible use of Gen AI concerned with?\",\\n        \"options\": {\\n            \"a\": \"Creating fake news\",\\n            \"b\": \"Fairness, transparency and accountability\",\\n            \"c\": \"Provoking conflicts\",\\n            \"d\": \"Ignoring ethical concerns\"\\n        },\\n        \"correct\": \"b\"\\n    },\\n    \"4\": {\\n        \"no\": \"4\",\\n        \"mcq\": \"Which type of models are used in Machine learning and Modeling for Generative AI?\",\\n        \"options\": {\\n            \"a\": \"Deep learning models\",\\n            \"b\": \"Shallow learning models\",\\n            \"c\": \"LLMs and Diffusion models\",\\n            \"d\": \"Reinforcement learning models\"\\n        },\\n        \"correct\": \"c\"\\n    },\\n    \"5\": {\\n        \"no\": \"5\",\\n        \"mcq\": \"What does Multi-modal Generative AI focus on?\",\\n        \"options\": {\\n            \"a\": \"Creating only text-based content\",\\n            \"b\": \"Generating content in multiple modes like text, images, and video\",\\n            \"c\": \"Developing hardware systems\",\\n            \"d\": \"Building social media platforms\"\\n        },\\n        \"correct\": \"b\"\\n    }\\n}', 'review': 'The quiz questions are well-structured and focus on specific topics related to Generative AI. The complexity level is appropriate for AI students, testing their knowledge and understanding of the subject matter. No changes are needed.'}\n"
     ]
    }
   ],
   "source": [
    "print(response)"
   ]
  },
  {
   "cell_type": "code",
   "execution_count": 27,
   "metadata": {},
   "outputs": [],
   "source": [
    "quiz = response.get(\"quiz\")"
   ]
  },
  {
   "cell_type": "code",
   "execution_count": 28,
   "metadata": {},
   "outputs": [],
   "source": [
    "quiz_dict = json.loads(quiz)"
   ]
  },
  {
   "cell_type": "code",
   "execution_count": 29,
   "metadata": {},
   "outputs": [
    {
     "name": "stdout",
     "output_type": "stream",
     "text": [
      "{'1': {'no': '1', 'mcq': 'What does the workshop on Generative AI at AIMLSystems focus on?', 'options': {'a': 'Developing self-driving cars', 'b': 'Building and deploying Generative AI systems', 'c': 'Creating mobile applications', 'd': 'Designing video games'}, 'correct': 'b'}, '2': {'no': '2', 'mcq': 'Which of the following is a topic of interest for Generative AI discussed in the text?', 'options': {'a': 'Weather forecasting', 'b': '3D printing technology', 'c': 'Systems, architecture and infrastructure for Generative AI', 'd': 'Cooking recipes'}, 'correct': 'c'}, '3': {'no': '3', 'mcq': 'What is responsible use of Gen AI concerned with?', 'options': {'a': 'Creating fake news', 'b': 'Fairness, transparency and accountability', 'c': 'Provoking conflicts', 'd': 'Ignoring ethical concerns'}, 'correct': 'b'}, '4': {'no': '4', 'mcq': 'Which type of models are used in Machine learning and Modeling for Generative AI?', 'options': {'a': 'Deep learning models', 'b': 'Shallow learning models', 'c': 'LLMs and Diffusion models', 'd': 'Reinforcement learning models'}, 'correct': 'c'}, '5': {'no': '5', 'mcq': 'What does Multi-modal Generative AI focus on?', 'options': {'a': 'Creating only text-based content', 'b': 'Generating content in multiple modes like text, images, and video', 'c': 'Developing hardware systems', 'd': 'Building social media platforms'}, 'correct': 'b'}}\n"
     ]
    }
   ],
   "source": [
    "print(quiz_dict)"
   ]
  },
  {
   "cell_type": "code",
   "execution_count": 30,
   "metadata": {},
   "outputs": [],
   "source": [
    "quiz_table_data = []\n",
    "for key, value in quiz_dict.items():\n",
    "    mcq = value['mcq']\n",
    "    options = \" | \".join(\n",
    "        [\n",
    "            f\"{option}: {option_value}\" for option, option_value in value['options'].items()\n",
    "        ]\n",
    "    )\n",
    "    correct = value['correct']\n",
    "    quiz_table_data.append({'MCQ':mcq, \"Choices\":options, \"Correct\":correct})"
   ]
  },
  {
   "cell_type": "code",
   "execution_count": 31,
   "metadata": {},
   "outputs": [
    {
     "data": {
      "text/plain": [
       "[{'MCQ': 'What does the workshop on Generative AI at AIMLSystems focus on?',\n",
       "  'Choices': 'a: Developing self-driving cars | b: Building and deploying Generative AI systems | c: Creating mobile applications | d: Designing video games',\n",
       "  'Correct': 'b'},\n",
       " {'MCQ': 'Which of the following is a topic of interest for Generative AI discussed in the text?',\n",
       "  'Choices': 'a: Weather forecasting | b: 3D printing technology | c: Systems, architecture and infrastructure for Generative AI | d: Cooking recipes',\n",
       "  'Correct': 'c'},\n",
       " {'MCQ': 'What is responsible use of Gen AI concerned with?',\n",
       "  'Choices': 'a: Creating fake news | b: Fairness, transparency and accountability | c: Provoking conflicts | d: Ignoring ethical concerns',\n",
       "  'Correct': 'b'},\n",
       " {'MCQ': 'Which type of models are used in Machine learning and Modeling for Generative AI?',\n",
       "  'Choices': 'a: Deep learning models | b: Shallow learning models | c: LLMs and Diffusion models | d: Reinforcement learning models',\n",
       "  'Correct': 'c'},\n",
       " {'MCQ': 'What does Multi-modal Generative AI focus on?',\n",
       "  'Choices': 'a: Creating only text-based content | b: Generating content in multiple modes like text, images, and video | c: Developing hardware systems | d: Building social media platforms',\n",
       "  'Correct': 'b'}]"
      ]
     },
     "execution_count": 31,
     "metadata": {},
     "output_type": "execute_result"
    }
   ],
   "source": [
    "quiz_table_data"
   ]
  },
  {
   "cell_type": "code",
   "execution_count": 32,
   "metadata": {},
   "outputs": [],
   "source": [
    "df = pd.DataFrame(quiz_table_data)"
   ]
  },
  {
   "cell_type": "code",
   "execution_count": 33,
   "metadata": {},
   "outputs": [],
   "source": [
    "df.to_csv(\"genai.xlxs\")"
   ]
  },
  {
   "cell_type": "code",
   "execution_count": 34,
   "metadata": {},
   "outputs": [],
   "source": [
    "import os\n",
    "import logging\n",
    "from datetime import datetime\n",
    "\n",
    "\n",
    "LOG_FILE=\"{datetime.now().strftime('%m_%d_%Y_%H_%M_%S')}.log\""
   ]
  },
  {
   "cell_type": "code",
   "execution_count": 35,
   "metadata": {},
   "outputs": [
    {
     "name": "stdout",
     "output_type": "stream",
     "text": [
      "{datetime.now().strftime('%m_%d_%Y_%H_%M_%S')}.log\n"
     ]
    }
   ],
   "source": [
    "print(LOG_FILE)"
   ]
  },
  {
   "cell_type": "code",
   "execution_count": 36,
   "metadata": {},
   "outputs": [
    {
     "data": {
      "text/plain": [
       "'03_12_2024_10_08_12'"
      ]
     },
     "execution_count": 36,
     "metadata": {},
     "output_type": "execute_result"
    }
   ],
   "source": [
    "datetime.now().strftime('%m_%d_%Y_%H_%M_%S')"
   ]
  },
  {
   "cell_type": "code",
   "execution_count": null,
   "metadata": {},
   "outputs": [],
   "source": []
  }
 ],
 "metadata": {
  "kernelspec": {
   "display_name": "Python 3",
   "language": "python",
   "name": "python3"
  },
  "language_info": {
   "codemirror_mode": {
    "name": "ipython",
    "version": 3
   },
   "file_extension": ".py",
   "mimetype": "text/x-python",
   "name": "python",
   "nbconvert_exporter": "python",
   "pygments_lexer": "ipython3",
   "version": "3.8.18"
  }
 },
 "nbformat": 4,
 "nbformat_minor": 2
}
